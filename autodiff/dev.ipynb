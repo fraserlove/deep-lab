{
 "cells": [
  {
   "cell_type": "markdown",
   "metadata": {},
   "source": [
    "## Reverse Mode Auto-Diff Development"
   ]
  },
  {
   "cell_type": "code",
   "execution_count": null,
   "metadata": {},
   "outputs": [],
   "source": [
    "import numpy as np\n",
    "from autodiff.value import Value\n",
    "from autodiff.mlp import MLP"
   ]
  },
  {
   "cell_type": "markdown",
   "metadata": {},
   "source": [
    "### Manual Backpropagation on an Expression"
   ]
  },
  {
   "cell_type": "code",
   "execution_count": null,
   "metadata": {},
   "outputs": [],
   "source": [
    "a = Value(2.0, label='a')\n",
    "b = Value(-3.0, label='b')\n",
    "c = Value(10.0, label='c')\n",
    "f = Value(-2.0, label='f')\n",
    "e = a * b\n",
    "e.label = 'e'\n",
    "d = e + c\n",
    "d.label = 'd'\n",
    "L = d * f\n",
    "L.label = 'L'\n",
    "\n",
    "# Backpropagation\n",
    "L.dv = 1 # dL/dL = 1\n",
    "\n",
    "d.dv = f.v # dL/dd = d/dd(d * f) = f\n",
    "f.dv = d.v # dL/df = d/df(d * f) = d\n",
    "\n",
    "c.dv = d.dv # dL/dc = dL/dd * dd/dc = f * d/dc(e + c) = f * 1 = f\n",
    "e.dv = d.dv # dL/de = dL/dd * dd/de = f * d/de(e + c) = f * 1 = f\n",
    "\n",
    "a.dv = e.dv * b.v # dL/da = dL/de * de/da = f * d/da(a * b) = f * b\n",
    "b.dv =  e.dv * a.v # dL/db = dL/de * de/db = f * d/db(a * b) = f * a\n",
    "\n",
    "L.draw_graph()"
   ]
  },
  {
   "cell_type": "markdown",
   "metadata": {},
   "source": [
    "### Manual Backpropagation on a Neuron"
   ]
  },
  {
   "cell_type": "code",
   "execution_count": null,
   "metadata": {},
   "outputs": [],
   "source": [
    "# Inputs x1, x2\n",
    "x1 = Value(2.0, label='x1')\n",
    "x2 = Value(0.0, label='x2')\n",
    "\n",
    "# Weights w1, w2\n",
    "w1 = Value(-3.0, label='w1')\n",
    "w2 = Value(1.0, label='w2')\n",
    "\n",
    "# Bias\n",
    "b = Value(6.8813735870195432, label='b')\n",
    "\n",
    "# o = tanh(x1 * w1 + x2 * w2 + b)\n",
    "x1w1 = x1 * w1\n",
    "x1w1.label = 'x1 * w1'\n",
    "x2w2 = x2 * w2\n",
    "x2w2.label = 'x2 * w2'\n",
    "x1w1x2w2 = x1w1 + x2w2\n",
    "x1w1x2w2.label = 'x1 * w1 + x2 * w2'\n",
    "z = x1w1x2w2 + b\n",
    "z.label = 'z'\n",
    "o = z.tanh()\n",
    "o.label = 'o'\n",
    "\n",
    "# Backpropagation.\n",
    "o.dv = 1\n",
    "\n",
    "z.dv = 1 - o.v**2 # do/dn = d/dn(tanh(n)) = 1 - tanh(n)**2 = 1 - o**2\n",
    "\n",
    "x1w1x2w2.dv = z.dv # do/dx1w1x2w2 = do/dn * dn/dx1w1x2w2 = do/dn * d/dx1w1x2w2((x1 * w1 + x2 * w2) + b) = do/dn\n",
    "b.dv = z.dv # do/db = do/dn * dn/db = do/dn * d/db((x1 * w1 + x2 * w2) + b) = do/dn\n",
    "\n",
    "x1w1.dv = x1w1x2w2.dv # do/dx1w1 = do/dx1w1x2w2 * dx1w1x2w2/dx1w1 = do/dx1w1x2w2 * d/dx1w1(x1 * w1 + x2 * w2) = do/dx1w1x2w2\n",
    "x2w2.dv = x1w1x2w2.dv # do/dx2w2 = do/dx1w1x2w2 * dx1w1x2w2/dx2w2 = do/dx1w1x2w2 * d/dx2w2(x1 * w1 + x2 * w2) = do/dx1w1x2w2\n",
    "\n",
    "x1.dv = x1w1.dv * w1.v #do/x1 = do/x1w1 * dx1w1/dx1 = do/x1w1 * d/dx1(x1 * w1) = do/x1w1 * w1\n",
    "w1.dv = x1w1.dv * x1.v #do/w1 = do/x1w1 * dx1w1/dw1 = do/x1w1 * d/dw1(x1 * w1) = do/x1w1 * x1\n",
    "x2.dv = x2w2.dv * w2.v #do/x2 = do/x2w2 * dx2w2/dx2 = do/x2w2 * d/dx2(x2 * w2) = do/x2w2 * w2\n",
    "w2.dv = x2w2.dv * x2.v #do/w2 = do/x2w2 * dx2w2/dw2 = do/x2w2 * d/dw2(x2 * w2) = do/x2w2 * x2\n",
    "\n",
    "o.draw_graph()"
   ]
  },
  {
   "cell_type": "code",
   "execution_count": null,
   "metadata": {},
   "outputs": [],
   "source": [
    "print('Before: ', o.v)\n",
    "\n",
    "# Single optimisation step. Increasing o by moving in the direction of the gradient.\n",
    "w1.v += 0.1 * w1.dv\n",
    "w2.v += 0.1 * w2.dv\n",
    "b.v += 0.1 * b.dv\n",
    "\n",
    "# Forward pass.\n",
    "x1w1 = x1 * w1\n",
    "x2w2 = x2 * w2\n",
    "x1w1x2w2 = x1 * w1 + x2 * w2\n",
    "n = x1w1x2w2 + b\n",
    "o = n.tanh()\n",
    "\n",
    "print('After: ', o.v)"
   ]
  },
  {
   "cell_type": "markdown",
   "metadata": {},
   "source": [
    "### Testing the Backpropagation"
   ]
  },
  {
   "cell_type": "code",
   "execution_count": null,
   "metadata": {},
   "outputs": [],
   "source": [
    "def finite_difference_gradient(f: callable, x: Value, eps: float = 1e-8) -> np.ndarray:\n",
    "    \"\"\"Estimates the gradient of a function using the central difference formula.\"\"\"\n",
    "    return (f(x + eps) - f(x - eps)) / (2 * eps)\n",
    "\n",
    "x = Value(2)\n",
    "f = lambda x: (-(x**2).sin() + 5).exp()\n",
    "y = f(x)\n",
    "y.backward()\n",
    "y.draw_graph()"
   ]
  },
  {
   "cell_type": "code",
   "execution_count": null,
   "metadata": {},
   "outputs": [],
   "source": [
    "assert np.isclose(finite_difference_gradient(f, x).v, x.dv, atol=1e-4)"
   ]
  },
  {
   "cell_type": "markdown",
   "metadata": {},
   "source": [
    "### Automatic Backpropagation on a Neuron"
   ]
  },
  {
   "cell_type": "code",
   "execution_count": null,
   "metadata": {},
   "outputs": [],
   "source": [
    "# Inputs x1, x2\n",
    "x1 = Value(2.0, label='x1')\n",
    "x2 = Value(0.0, label='x2')\n",
    "\n",
    "# Weights w1, w2\n",
    "w1 = Value(-3.0, label='w1')\n",
    "w2 = Value(1.0, label='w2')\n",
    "\n",
    "# Bias\n",
    "b = Value(6.8813735870195432, label='b')\n",
    "\n",
    "# o = tanh(x1 * w1 + x2 * w2 + b)\n",
    "x1w1 = x1 * w1\n",
    "x1w1.label = 'x1 * w1'\n",
    "x2w2 = x2 * w2\n",
    "x2w2.label = 'x2 * w2'\n",
    "x1w1x2w2 = x1w1 + x2w2\n",
    "x1w1x2w2.label = 'x1 * w1 + x2 * w2'\n",
    "z = x1w1x2w2 + b\n",
    "z.label = 'z'\n",
    "o = z.tanh()\n",
    "o.label = 'o'\n",
    "\n",
    "# Backpropagation\n",
    "o.backward()\n",
    "o.draw_graph()"
   ]
  },
  {
   "cell_type": "markdown",
   "metadata": {},
   "source": [
    "### Backpropagation on an MLP"
   ]
  },
  {
   "cell_type": "code",
   "execution_count": null,
   "metadata": {},
   "outputs": [],
   "source": [
    "x = [2.0, 3.0, -1.0]\n",
    "n = MLP(2, [4, 4, 1])\n",
    "print(len(n.parameters()))\n",
    "n(x).draw_graph()"
   ]
  },
  {
   "cell_type": "code",
   "execution_count": null,
   "metadata": {},
   "outputs": [],
   "source": [
    "# Example data\n",
    "xs = [\n",
    "    [2.0, 3.0, -1.0],\n",
    "    [3.0, -1.0, 0.5],\n",
    "    [0.5, 1.0, 1.0],\n",
    "    [1.0, 1.0, -1.0]\n",
    "]\n",
    "ys = [1.0, -1.0, -1.0, 1.0] # Labels\n",
    "\n",
    "def loss(ys, ypreds):\n",
    "    \"\"\"Mean squared error loss.\"\"\"\n",
    "    return 0.5 * sum([(y - ypred)**2 for y, ypred in zip(ys, ypreds)])\n",
    "\n",
    "max_iters = 10\n",
    "lr = 0.01 # Learning rate\n",
    "\n",
    "# Training loop. Gradient descent\n",
    "for k in range(max_iters):\n",
    "    # Forward pass\n",
    "    ypreds = [n(x) for x in xs]\n",
    "    l = loss(ys, ypreds)\n",
    "\n",
    "    # Backward pass\n",
    "    n.zero_grad()\n",
    "    l.backward()\n",
    "\n",
    "    # Update weights\n",
    "    for param in n.parameters():\n",
    "        param.v -= lr * param.dv\n",
    "\n",
    "    print(f'Iteration {k}: loss = {l.v}')\n",
    "\n",
    "# Predictions\n",
    "print('Predictions:', ypreds)"
   ]
  }
 ],
 "metadata": {
  "kernelspec": {
   "display_name": "Python 3",
   "language": "python",
   "name": "python3"
  },
  "language_info": {
   "codemirror_mode": {
    "name": "ipython",
    "version": 3
   },
   "file_extension": ".py",
   "mimetype": "text/x-python",
   "name": "python",
   "nbconvert_exporter": "python",
   "pygments_lexer": "ipython3",
   "version": "3.11.4"
  }
 },
 "nbformat": 4,
 "nbformat_minor": 2
}
