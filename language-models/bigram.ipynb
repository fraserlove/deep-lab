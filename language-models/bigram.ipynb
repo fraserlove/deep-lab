{
 "cells": [
  {
   "cell_type": "code",
   "execution_count": null,
   "metadata": {},
   "outputs": [],
   "source": [
    "import torch\n",
    "import torch.nn.functional as F\n",
    "import matplotlib.pyplot as plt"
   ]
  },
  {
   "cell_type": "code",
   "execution_count": null,
   "metadata": {},
   "outputs": [],
   "source": [
    "with open('names.txt', 'r', encoding='utf-8') as f:\n",
    "    text = f.read().split('\\n')\n",
    "\n",
    "# Unique characters in the text\n",
    "chars = ['.'] + sorted(list(set(''.join(text))))\n",
    "vocab_size = len(chars)\n",
    "\n",
    "# Mapping from characters to integers and vice versa\n",
    "char_to_int = {c: i for i, c in enumerate(chars)}\n",
    "int_to_char = {i: c for i, c in enumerate(chars)}"
   ]
  },
  {
   "cell_type": "markdown",
   "metadata": {},
   "source": [
    "### Bigram Count Approach"
   ]
  },
  {
   "cell_type": "code",
   "execution_count": null,
   "metadata": {},
   "outputs": [],
   "source": [
    "# Bigram counts\n",
    "B = torch.zeros((vocab_size, vocab_size), dtype=torch.int32)\n",
    "for word in text:\n",
    "    chars = ['.'] + list(word) + ['.']\n",
    "    for char1, char2 in zip(chars, chars[1:]):\n",
    "        B[char_to_int[char1], char_to_int[char2]] += 1"
   ]
  },
  {
   "cell_type": "code",
   "execution_count": null,
   "metadata": {},
   "outputs": [],
   "source": [
    "# Visualise the bigram tensor\n",
    "plt.figure(figsize=(16, 16))\n",
    "plt.imshow(B, cmap='Blues')\n",
    "for i in range(B.size(0)):\n",
    "    for j in range(B.size(1)):\n",
    "        plt.text(j, i, int_to_char[i] + int_to_char[j], ha='center', va='bottom', color='gray')\n",
    "        plt.text(j, i, B[i, j].item(), ha='center', va='top', color='gray')\n",
    "plt.axis('off')"
   ]
  },
  {
   "cell_type": "code",
   "execution_count": null,
   "metadata": {},
   "outputs": [],
   "source": [
    "# Calculate the probabilities of the next character in the bigram. Summing and normalising across each row.\n",
    "# Add model smoothing by adding 1 to each bigram. This removes posibility of an average negative log likelihood of inf.\n",
    "P = (B + 1) / B.sum(1, keepdim=True)"
   ]
  },
  {
   "cell_type": "code",
   "execution_count": null,
   "metadata": {},
   "outputs": [],
   "source": [
    "# Sample from the model\n",
    "for _ in range(5):\n",
    "    out = []\n",
    "    ix = 0\n",
    "    while True:\n",
    "        # Sample the next character from the distribution for the current character index\n",
    "        ix = torch.multinomial(P[ix], num_samples=1, replacement=True).item()\n",
    "        out.append(int_to_char[ix])\n",
    "        if ix == 0:\n",
    "            break # End of word\n",
    "    print(''.join(out))"
   ]
  },
  {
   "cell_type": "code",
   "execution_count": null,
   "metadata": {},
   "outputs": [],
   "source": [
    "# Loss function. Average negative log likelihood of the text\n",
    "log_likelihood = 0\n",
    "n = 0\n",
    "for word in text:\n",
    "    chars = ['.'] + list(word) + ['.']\n",
    "    for char1, char2 in zip(chars, chars[1:]):\n",
    "        prob = P[char_to_int[char1], char_to_int[char2]]\n",
    "        log_likelihood += torch.log(prob)\n",
    "        n += 1\n",
    "        \n",
    "print(f'Loss: {-log_likelihood / n}')\n",
    "# Goal is to minimise the loss (average negative log likelihood) w.r.t. the parameters, i.e. bigram counts B"
   ]
  },
  {
   "cell_type": "markdown",
   "metadata": {},
   "source": [
    "### Gradient Based Apprach"
   ]
  },
  {
   "cell_type": "code",
   "execution_count": null,
   "metadata": {},
   "outputs": [],
   "source": [
    "# Create the training set of bigrams (x, y)\n",
    "xs, ys = [], []\n",
    "\n",
    "for word in text:\n",
    "    chars = ['.'] + list(word) + ['.']\n",
    "    for char1, char2 in zip(chars, chars[1:]):\n",
    "        xs.append(char_to_int[char1])\n",
    "        ys.append(char_to_int[char2])\n",
    "\n",
    "xs = torch.tensor(xs)\n",
    "ys = torch.tensor(ys)\n",
    "\n",
    "# Input to network. One-hot encoding\n",
    "xs_encoded = F.one_hot(xs, num_classes=vocab_size).float()\n",
    "\n",
    "# Randomly initialise neurons' weights. Network has only one linear layer\n",
    "W = torch.randn(vocab_size, vocab_size, requires_grad=True)\n",
    "\n",
    "max_iters = 100\n",
    "lr = 50 # Learning rate\n",
    "reg = 1e-8 # Regularisation strength\n",
    "\n",
    "# Gradient descent\n",
    "for i in range(max_iters):\n",
    "\n",
    "    # Forward pass\n",
    "    logits = xs_encoded @ W\n",
    "    # Perform softmax\n",
    "    counts = logits.exp()\n",
    "    probs = counts / counts.sum(1, keepdims=True) # Probabilities of the next character\n",
    "\n",
    "    # Cross entropy loss with L2 regularisation on the weights\n",
    "    loss = -probs[torch.arange(len(ys)), ys].log().mean() + reg * (W**2).sum()\n",
    "\n",
    "    # Backward pass\n",
    "    W.grad = None # Set the gradient to zero\n",
    "    loss.backward()\n",
    "\n",
    "    # Update the weights\n",
    "    W.data -= lr * W.grad\n",
    "\n",
    "    if i % (max_iters // 10) == 0 or i == max_iters - 1:\n",
    "        print(f'Iteration {i:2d} | Loss: {loss.data:.4f}')"
   ]
  },
  {
   "cell_type": "code",
   "execution_count": null,
   "metadata": {},
   "outputs": [],
   "source": [
    "# Sample from the model\n",
    "for _ in range(5):\n",
    "    out = []\n",
    "\n",
    "    while True:\n",
    "        # Forward pass\n",
    "        logits = W[ix].view(1, -1)\n",
    "        # Perform softmax\n",
    "        counts = logits.exp()\n",
    "        probs = counts / counts.sum(1, keepdims=True) \n",
    "        \n",
    "        # Sample the next character from the distribution for the current character index\n",
    "        ix = torch.multinomial(probs, num_samples=1, replacement=True).item()\n",
    "        out.append(int_to_char[ix])\n",
    "        if ix == 0:\n",
    "            break # End of word\n",
    "    print(''.join(out))"
   ]
  }
 ],
 "metadata": {
  "kernelspec": {
   "display_name": ".venv",
   "language": "python",
   "name": "python3"
  },
  "language_info": {
   "codemirror_mode": {
    "name": "ipython",
    "version": 3
   },
   "file_extension": ".py",
   "mimetype": "text/x-python",
   "name": "python",
   "nbconvert_exporter": "python",
   "pygments_lexer": "ipython3",
   "version": "3.11.4"
  },
  "orig_nbformat": 4
 },
 "nbformat": 4,
 "nbformat_minor": 2
}
